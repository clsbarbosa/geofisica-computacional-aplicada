{
 "cells": [
  {
   "cell_type": "markdown",
   "id": "394be68e",
   "metadata": {},
   "source": [
    "## Modelagem Sísmica da Equação da Onda Acústica\n",
    "\n",
    "A modelagem sísmica consiste na simulação numérica da propagação do campo de ondas com base na equação da onda acústica.\n",
    "\n",
    "__Resultado esperado deste exemplo:__ registro de um sinal sísmico em uma localização pré-definida.\n",
    "\n",
    "\n",
    "#### Características da implementação computacional\n",
    "\n",
    "    - Discretização da derivadas parciais da equação da onda pelo Método das Diferenças Finitas\n",
    "    \n",
    "    - Ordem da discretição:\n",
    "        > Derivadas espaciais: segunda ordem\n",
    "        > Derivada temporal: segunda ordem"
   ]
  },
  {
   "cell_type": "code",
   "execution_count": 1,
   "id": "00d06d54",
   "metadata": {},
   "outputs": [],
   "source": [
    "import matplotlib.pyplot as plt\n",
    "import numpy as np\n",
    "from math import *\n",
    "from numba import jit\n",
    "\n",
    "from velocity_models import constant_velocity\n",
    "from seismic_wavelets import ricker_wavelet\n",
    "from data_plotting import plotting_seismic_signal"
   ]
  },
  {
   "cell_type": "code",
   "execution_count": 2,
   "id": "97f63878",
   "metadata": {},
   "outputs": [],
   "source": [
    "h = 10.0                                       # espaçamento da malha (metros)\n",
    "dt = 0.0005                                    # taxa de variação temporal (segundos)\n",
    "dimX = 300                                     # extensão do domínio\n",
    "dimZ = 200                                     # profundidade do domínio\n",
    "Ntotal = 3000                                  # tempo total discreto\n",
    "cut_frequency = 30                             # frequencia de corte\n",
    "\n",
    "\n",
    "# posicionamento fonte sísmica\n",
    "shot_x = 150\n",
    "shot_z = 5\n",
    "# posicionamento receptores\n",
    "rec_x = 150\n",
    "rec_z = 100        "
   ]
  },
  {
   "cell_type": "code",
   "execution_count": 3,
   "id": "ad1b9679",
   "metadata": {},
   "outputs": [
    {
     "name": "stdout",
     "output_type": "stream",
     "text": [
      "----- PARAMETRIZAÇÃO ------\n",
      "dimX:   300   | dimZ:   200\n",
      "shot_x: 150   | shot_z: 5\n",
      "rec_x:  150   | rec_z:  100\n"
     ]
    }
   ],
   "source": [
    "# Paramentrização\n",
    "print(\"----- PARAMETRIZAÇÃO ------\")\n",
    "print(f'dimX:   {dimX}   | dimZ:   {dimZ}')\n",
    "print(f'shot_x: {shot_x}   | shot_z: {shot_z}')\n",
    "print(f'rec_x:  {rec_x}   | rec_z:  {rec_z}')"
   ]
  },
  {
   "cell_type": "code",
   "execution_count": 4,
   "id": "d12d3ffa",
   "metadata": {},
   "outputs": [],
   "source": [
    "seismic_source       = np.zeros(Ntotal)            # fonte sísmica\n",
    "velocity             = np.zeros((dimZ, dimX))      # campo de velocidades\n",
    "C                    = np.zeros((dimZ, dimX))      # matriz auxilar\n",
    "    \n",
    "wavefield01          = np.zeros((dimZ, dimX))      # campo de pressão em n - dt\n",
    "wavefield02          = np.zeros((dimZ, dimX))      # campo de pressão em n\n",
    "wavefield03          = np.zeros((dimZ, dimX))      # campo de pressão em n + dt\n",
    "\n",
    "seismic_signal       = np.zeros(Ntotal)         # sinal sísmico em 1 receptor"
   ]
  },
  {
   "cell_type": "code",
   "execution_count": 5,
   "id": "92844c1e",
   "metadata": {},
   "outputs": [],
   "source": [
    "# definindo campo de velocidades constante\n",
    "velocity = constant_velocity(1500.0, dimX, dimZ)\n",
    "\n",
    "# definindo a fonte sismica (ricker)\n",
    "seismic_source = ricker_wavelet(cut_frequency, dt, Ntotal)"
   ]
  },
  {
   "cell_type": "code",
   "execution_count": 6,
   "id": "3941ef1b",
   "metadata": {},
   "outputs": [
    {
     "name": "stderr",
     "output_type": "stream",
     "text": [
      "C:\\Users\\chsba\\AppData\\Local\\Temp\\ipykernel_13104\\2357940522.py:11: NumbaDeprecationWarning: \u001b[1mThe 'nopython' keyword argument was not supplied to the 'numba.jit' decorator. The implicit default value for this argument is currently False, but it will be changed to True in Numba 0.59.0. See https://numba.readthedocs.io/en/stable/reference/deprecation.html#deprecation-of-object-mode-fall-back-behaviour-when-using-jit for details.\u001b[0m\n",
      "  def wave_equation(wavefield01, wavefield02, wavefield03, C, c, dimX, dimZ):\n"
     ]
    }
   ],
   "source": [
    "# coeficiente de diferencas finitas\n",
    "c = (-2.0, 1.0)\n",
    "\n",
    "# matriz auxiliar Cik\n",
    "for i in range(dimZ):\n",
    "    for k in range(dimX):\n",
    "        C[i, k] = (velocity[i, k] * (dt/h)) ** 2\n",
    "\n",
    "        \n",
    "@jit # Compiler Just-in-time\n",
    "def wave_equation(wavefield01, wavefield02, wavefield03, C, c, dimX, dimZ):\n",
    "    \n",
    "    for i in range(1, dimZ-1):\n",
    "        for k in range(1, dimX-1):\n",
    "            wavefield03[i,k] = C[i,k] * (2.0*c[0]*wavefield02[i, k] + \n",
    "                                         c[1]*(wavefield02[i,k-1] + wavefield02[i,k+1]+ wavefield02[i-1,k] + wavefield02[i+1,k])) + 2.0*wavefield02[i,k] - wavefield01[i,k]"
   ]
  },
  {
   "cell_type": "code",
   "execution_count": 7,
   "id": "2f007dd8",
   "metadata": {},
   "outputs": [],
   "source": [
    "def seismic_modeling(wavefield01, wavefield02, wavefield03, \n",
    "                     C, c, seismic_source, shot_x, shot_z, Ntotal, rec_x, rec_z, seismic_signal):\n",
    "    \n",
    "    for n in range(0,Ntotal):\n",
    "        \n",
    "        # calculo do campo de ondas\n",
    "        wave_equation(wavefield01, wavefield02, wavefield03, C, c, dimX, dimZ)\n",
    "\n",
    "        # registrando o sinal sísmico na posição [rec_z,rec_x]\n",
    "        seismic_signal[n] = wavefield03[rec_z,rec_x]\n",
    "        \n",
    "        # fonte sísmica\n",
    "        wavefield02[shot_z,shot_x] = wavefield02[shot_z,shot_x] + seismic_source[n]*(velocity[shot_z,shot_x]**2)\n",
    "        \n",
    "        # Atualização temporal do campo de ondas\n",
    "        wavefield01 = np.copy(wavefield02)\n",
    "        wavefield02 = np.copy(wavefield03)\n",
    "\n",
    "        if n % 1000 == 0:\n",
    "            print(n)"
   ]
  },
  {
   "cell_type": "code",
   "execution_count": 8,
   "id": "51c7c96b",
   "metadata": {},
   "outputs": [
    {
     "name": "stdout",
     "output_type": "stream",
     "text": [
      "0\n",
      "1000\n",
      "2000\n"
     ]
    }
   ],
   "source": [
    "seismic_modeling(wavefield01, wavefield02, wavefield03, \n",
    "                 C, c, seismic_source, shot_x, shot_z, Ntotal, rec_x, rec_z, seismic_signal)"
   ]
  },
  {
   "cell_type": "code",
   "execution_count": 9,
   "id": "db31f57f",
   "metadata": {},
   "outputs": [
    {
     "data": {
      "image/png": "[encoded data removed]",
      "text/plain": [
       "<Figure size 1500x300 with 1 Axes>"
      ]
     },
     "metadata": {},
     "output_type": "display_data"
    }
   ],
   "source": [
    "image_name = \"seismic_signal_2nd.png\"\n",
    "plotting_seismic_signal(seismic_signal, image_name)"
   ]
  },
  {
   "cell_type": "code",
   "execution_count": null,
   "id": "f9a9a7c2",
   "metadata": {},
   "outputs": [],
   "source": []
  }
 ],
 "metadata": {
  "kernelspec": {
   "display_name": "Python 3 (ipykernel)",
   "language": "python",
   "name": "python3"
  },
  "language_info": {
   "codemirror_mode": {
    "name": "ipython",
    "version": 3
   },
   "file_extension": ".py",
   "mimetype": "text/x-python",
   "name": "python",
   "nbconvert_exporter": "python",
   "pygments_lexer": "ipython3",
   "version": "3.10.11"
  }
 },
 "nbformat": 4,
 "nbformat_minor": 5
}
